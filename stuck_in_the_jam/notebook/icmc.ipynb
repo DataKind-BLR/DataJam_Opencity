{
 "cells": [
  {
   "cell_type": "code",
   "execution_count": 83,
   "metadata": {},
   "outputs": [],
   "source": [
    "# imports\n",
    "import requests\n",
    "from bs4 import BeautifulSoup\n",
    "import json\n",
    "from collections import namedtuple\n",
    "from tqdm import tqdm\n",
    "import pandas as pd\n",
    "\n",
    "# constants\n",
    "ICMC = namedtuple(\"ICMC\", [\"statusTitle\", \"id\", \"category\", \"subCategory\", \"title\", \"pictures\", \"priority\", \"cityId\", \"landmark\", \"name\", \"longitude\", \"latitude\", \"civicAgency\", \"description\", \"wardId\", \"slug\", \"url\", \"postedOn\", \"wardTitle\"])\n",
    "output_csv = \"../icmc_output.csv\"\n",
    "limit = 10000"
   ]
  },
  {
   "cell_type": "code",
   "execution_count": 84,
   "metadata": {},
   "outputs": [],
   "source": [
    "# base url\n",
    "\n",
    "url = \"https://api.ichangemycity.com/api/complaints/list?agency=0&category_id=0&city=1&include=comments&latitude=0&longitude=0&page={}&status_id=0&sub_category=0&type=list\""
   ]
  },
  {
   "cell_type": "code",
   "execution_count": 87,
   "metadata": {},
   "outputs": [],
   "source": [
    "# encoding the dataframe to utf-8\n",
    "\n",
    "def encode_dataframe(df):\n",
    "    df_columns = df.columns.tolist()\n",
    "    for c in df_columns: \n",
    "        if df[c].dtype != 'int64':\n",
    "            df[c] = df[c].str.encode('utf-8')\n",
    "    return df"
   ]
  },
  {
   "cell_type": "code",
   "execution_count": null,
   "metadata": {},
   "outputs": [],
   "source": [
    "icmc = []\n",
    "\n",
    "for idx, i in tqdm(enumerate(range(limit))):\n",
    "    try:\n",
    "        data = json.loads(requests.get(url.format(i + 1)).text)[\"data\"]\n",
    "        for d in data:\n",
    "            icmc.append(ICMC(d[\"statusTitle\"], d[\"id\"], d[\"category\"], d[\"subCategory\"], d[\"title\"], d[\"pictures\"], d[\"priority\"], d[\"location\"][\"cityId\"], d[\"location\"][\"landmark\"], d[\"location\"][\"name\"], d[\"location\"][\"longitude\"], d[\"location\"][\"latitude\"], d[\"civicAgency\"], d[\"description\"], d[\"wardId\"], d[\"slug\"], d[\"url\"], d[\"postedOn\"], d[\"wardTitle\"]))\n",
    "    except Exception as e:\n",
    "         print(\"Exception occurred: {}\".format(e.message))\n",
    "    \n",
    "    if (idx + 1) % 10 == 0:\n",
    "        df_ = pd.DataFrame(icmc)\n",
    "        with open(output_csv, 'a') as fp:\n",
    "            encode_dataframe(df_)\n",
    "            df_.to_csv(fp, header=False, index=False)\n",
    "        icmc = []\n",
    "        \n",
    "df_ = pd.DataFrame(icmc)\n",
    "with open(output_csv, 'a') as fp:\n",
    "    encode_dataframe(df_)\n",
    "    df_.to_csv(fp, header=False, index=False)"
   ]
  },
  {
   "cell_type": "code",
   "execution_count": null,
   "metadata": {},
   "outputs": [],
   "source": []
  }
 ],
 "metadata": {
  "kernelspec": {
   "display_name": "Python 2",
   "language": "python",
   "name": "python2"
  },
  "language_info": {
   "codemirror_mode": {
    "name": "ipython",
    "version": 2
   },
   "file_extension": ".py",
   "mimetype": "text/x-python",
   "name": "python",
   "nbconvert_exporter": "python",
   "pygments_lexer": "ipython2",
   "version": "2.7.12"
  }
 },
 "nbformat": 4,
 "nbformat_minor": 2
}
