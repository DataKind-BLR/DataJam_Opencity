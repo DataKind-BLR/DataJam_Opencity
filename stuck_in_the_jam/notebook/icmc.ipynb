{
 "cells": [
  {
   "cell_type": "code",
   "execution_count": 34,
   "metadata": {},
   "outputs": [],
   "source": [
    "import requests\n",
    "from bs4 import BeautifulSoup\n",
    "import json\n",
    "from collections import namedtuple\n",
    "from tqdm import tqdm\n",
    "\n",
    "ICMC = namedtuple(\"ICMC\", [\"statusTitle\", \"id\", \"category\", \"subCategory\", \"title\", \"pictures\", \"priority\", \"cityId\", \"landmark\", \"name\", \"longitude\", \"latitude\", \"civicAgency\", \"description\", \"wardId\", \"slug\", \"url\", \"postedOn\", \"wardTitle\"])\n",
    "ouput_csv = \"../icmc_output.csv\""
   ]
  },
  {
   "cell_type": "code",
   "execution_count": 35,
   "metadata": {},
   "outputs": [],
   "source": [
    "url = \"https://api.ichangemycity.com/api/complaints/list?agency=0&category_id=0&city=1&include=comments&latitude=0&longitude=0&page={}&status_id=0&sub_category=0&type=list\""
   ]
  },
  {
   "cell_type": "code",
   "execution_count": 39,
   "metadata": {},
   "outputs": [
    {
     "name": "stderr",
     "output_type": "stream",
     "text": [
      "  0%|          | 0/10000 [00:00<?, ?it/s]\n"
     ]
    },
    {
     "ename": "TypeError",
     "evalue": "'int' object is not iterable",
     "output_type": "error",
     "traceback": [
      "\u001b[0;31m---------------------------------------------------------------------------\u001b[0m",
      "\u001b[0;31mTypeError\u001b[0m                                 Traceback (most recent call last)",
      "\u001b[0;32m<ipython-input-39-5d14544267d2>\u001b[0m in \u001b[0;36m<module>\u001b[0;34m()\u001b[0m\n\u001b[1;32m      1\u001b[0m \u001b[0micmc\u001b[0m \u001b[0;34m=\u001b[0m \u001b[0;34m[\u001b[0m\u001b[0;34m]\u001b[0m\u001b[0;34m\u001b[0m\u001b[0m\n\u001b[1;32m      2\u001b[0m \u001b[0;34m\u001b[0m\u001b[0m\n\u001b[0;32m----> 3\u001b[0;31m \u001b[0;32mfor\u001b[0m \u001b[0midx\u001b[0m\u001b[0;34m,\u001b[0m \u001b[0mi\u001b[0m \u001b[0;32min\u001b[0m \u001b[0mtqdm\u001b[0m\u001b[0;34m(\u001b[0m\u001b[0mrange\u001b[0m\u001b[0;34m(\u001b[0m\u001b[0;36m10000\u001b[0m\u001b[0;34m)\u001b[0m\u001b[0;34m)\u001b[0m\u001b[0;34m:\u001b[0m\u001b[0;34m\u001b[0m\u001b[0m\n\u001b[0m\u001b[1;32m      4\u001b[0m     \u001b[0;32mtry\u001b[0m\u001b[0;34m:\u001b[0m\u001b[0;34m\u001b[0m\u001b[0m\n\u001b[1;32m      5\u001b[0m         \u001b[0mdata\u001b[0m \u001b[0;34m=\u001b[0m \u001b[0mjson\u001b[0m\u001b[0;34m.\u001b[0m\u001b[0mloads\u001b[0m\u001b[0;34m(\u001b[0m\u001b[0mrequests\u001b[0m\u001b[0;34m.\u001b[0m\u001b[0mget\u001b[0m\u001b[0;34m(\u001b[0m\u001b[0murl\u001b[0m\u001b[0;34m.\u001b[0m\u001b[0mformat\u001b[0m\u001b[0;34m(\u001b[0m\u001b[0mi\u001b[0m \u001b[0;34m+\u001b[0m \u001b[0;36m1\u001b[0m\u001b[0;34m)\u001b[0m\u001b[0;34m)\u001b[0m\u001b[0;34m.\u001b[0m\u001b[0mtext\u001b[0m\u001b[0;34m)\u001b[0m\u001b[0;34m[\u001b[0m\u001b[0;34m\"data\"\u001b[0m\u001b[0;34m]\u001b[0m\u001b[0;34m\u001b[0m\u001b[0m\n",
      "\u001b[0;31mTypeError\u001b[0m: 'int' object is not iterable"
     ]
    }
   ],
   "source": [
    "icmc = []\n",
    "\n",
    "for idx, i in tqdm(enumerate(range(limit))):\n",
    "    try:\n",
    "        data = json.loads(requests.get(url.format(i + 1)).text)[\"data\"]\n",
    "        for d in data:\n",
    "            icmc.append(ICMC(d[\"statusTitle\"], d[\"id\"], d[\"category\"], d[\"subCategory\"], d[\"title\"], d[\"pictures\"], d[\"priority\"], d[\"location\"][\"cityId\"], d[\"location\"][\"landmark\"], d[\"location\"][\"name\"], d[\"location\"][\"longitude\"], d[\"location\"][\"latitude\"], d[\"civicAgency\"], d[\"description\"], d[\"wardId\"], d[\"slug\"], d[\"url\"], d[\"postedOn\"], d[\"wardTitle\"]))\n",
    "    except Exception as e:\n",
    "         print(\"Exception occurred: {}\".format(e.message))\n",
    "    \n",
    "    if (idx + 1) % 10 == 0:\n",
    "        df_ = pd.DataFrame(icmc)\n",
    "        with open(output_csv, 'a') as fp:\n",
    "            df_ten.to_csv(fp, header=False, index=False)\n",
    "        icmc = []\n",
    "        \n",
    "df_ = pd.DataFrame(icmc)\n",
    "with open(output_csv, 'a') as fp:\n",
    "    df_ten.to_csv(fp, header=False, index=False)"
   ]
  },
  {
   "cell_type": "code",
   "execution_count": 29,
   "metadata": {},
   "outputs": [
    {
     "data": {
      "text/plain": [
       "[ICMC(statusTitle=u'Open', id=346597, category=u'Others', subCategory=u'Others', title=u'Needed Speed Breaker and repair Street Light', pictures=[], priority=u'Low', cityId=1, landmark=u'Opposite to Sri Ram PG', name=u'Kas Officers Colony, Stage 2, Btm Layout, Bengaluru, Karnataka 560068, India', longitude=u'77.62139300000001', latitude=u'12.9141001', civicAgency=u'', description=u'Please take my request for making Speed Breaker and repairing the Street Light on 36th Main, 4th Cross, BTM 2nd Stage, Near Sri Ram PG. Peoples are driving here very rashly as there is no speed Beaker. We have many neighbors here which do have small kids and its very dangerous for them as well. \\n\\nOnce you send some body to fix this. They can connect me @ +91-7829787186 . I can help them to tell the exact place where they can make the Speed Breaker.\\n\\nThanks,', wardId=175, slug=u'needed-speed-breaker-and-repair-street-light', url=u'https://www.ichangemycity.com/complaints/needed-speed-breaker-and-repair-street-light', postedOn=u'3 minutes ago', wardTitle=u'Bommanahalli'),\n",
       " ICMC(statusTitle=u'Open', id=346596, category=u'Animal Husbandry', subCategory=u'Stray Dog Sterilisation/Animal Birth Control (ABC)', title=u'At least 12 dogs are wandering in this a', pictures=[], priority=u'Low', cityId=1, landmark=u'', name=u'Sanjeevini Enclave Layout, Kali temple Road, Hagadur, Immadihalli, Whitefield,', longitude=u'77.75566679999997', latitude=u'12.9617424', civicAgency=u'BBMP', description=u\"At least 12 dogs are wandering in this area since last one week and have been creating menace daily. Please take necessary action ASAP. It's impossible to sleep at night due to their consistent barking.\", wardId=84, slug=u'at-least-12-dogs-are-wandering-in-this-a', url=u'https://www.ichangemycity.com/complaints/at-least-12-dogs-are-wandering-in-this-a', postedOn=u'3 minutes ago', wardTitle=u'Hagadur'),\n",
       " ICMC(statusTitle=u'Open', id=346595, category=u'Lakes', subCategory=u'Removal of Encroachment In Lakes', title=u'Kindly clean, dead dogs have been put he', pictures=[], priority=u'Low', cityId=1, landmark=u'', name=u'No location', longitude=u'77.717308', latitude=u'12.959641', civicAgency=u'BBMP', description=u'Kindly clean, dead dogs have been put here. Kindly help', wardId=85, slug=u'kindly-clean-dead-dogs-have-been-put-he', url=u'https://www.ichangemycity.com/complaints/kindly-clean-dead-dogs-have-been-put-he', postedOn=u'4 minutes ago', wardTitle=u'Dodda Nekkundi'),\n",
       " ICMC(statusTitle=u'Open', id=346594, category=u'Maintenance of Roads and Footpaths', subCategory=u'Management Of Hawkers and Vendors', title=u'A  restaurant has come up on the footpat', pictures=[{u'url': u'http://complaintcdn.ichangemycity.com/images/346594/original_485043.jpeg', u'small': u'https://www.ichangemycity.com/theme/timthumb/timthumb.php?src=http://complaintcdn.ichangemycity.com/images/346594/original_485043.jpeg&w=150&h=150', u'ext': u'jpeg', u'large': u'https://www.ichangemycity.com/theme/timthumb/timthumb.php?src=http://complaintcdn.ichangemycity.com/images/346594/original_485043.jpeg&r=700', u'id': 485043}], priority=u'Low', cityId=1, landmark=u'', name=u'Nagapura,', longitude=u'77.54431840000007', latitude=u'13.0021081', civicAgency=u'BBMP', description=u'A  restaurant has come up on the footpath of 6th main Road, just adjacent to Basaveshwara school, next to transformer. Food is cooked using gas cylinders, which is  a hazard for school children at the School and people walking by. Further, a busy foot path has been blocked causing inconvenience.', wardId=67, slug=u'a-restaurant-has-come-up-on-the-footpat', url=u'https://www.ichangemycity.com/complaints/a-restaurant-has-come-up-on-the-footpat', postedOn=u'5 minutes ago', wardTitle=u'Nagapura'),\n",
       " ICMC(statusTitle=u'Open', id=346592, category=u'Maintenance of Roads and Footpaths', subCategory=u'Fixing/Reparing Potholes', title=u\"Road has so many big manholes. it's very\", pictures=[], priority=u'Low', cityId=1, landmark=u'', name=u'Somasundarapalya Main Road, Somasundarapalya Main Road , Somasundarapalya , Bengaluru', longitude=u'77.65088807791471', latitude=u'12.894420676020877', civicAgency=u'BBMP', description=u\"Road has so many big manholes. it's very bad. the pothole can lead to accidents as in night it's not visible.\", wardId=190, slug=u'road-has-so-many-big-manholes-its-very', url=u'https://www.ichangemycity.com/complaints/road-has-so-many-big-manholes-its-very', postedOn=u'13 minutes ago', wardTitle=u'Mangamannapalya'),\n",
       " ICMC(statusTitle=u'Open', id=346591, category=u'Maintenance of Roads and Footpaths', subCategory=u'Fixing/Reparing Potholes', title=u'Haralur road is so bad.', pictures=[], priority=u'Low', cityId=1, landmark=u'', name=u'ND Passion, Harlur , Bengaluru', longitude=u'77.6577447', latitude=u'12.89361', civicAgency=u'BBMP', description=u'Haralur road is so bad.', wardId=191, slug=u'haralur-road-is-so-bad', url=u'https://www.ichangemycity.com/complaints/haralur-road-is-so-bad', postedOn=u'15 minutes ago', wardTitle=u'Singasandra'),\n",
       " ICMC(statusTitle=u'Open', id=346589, category=u'Garbage and Unsanitary Practices', subCategory=u'Fogging (Mosquito Menace) Or Pest Control', title=u'Too many mosquitos. because of lakes whi', pictures=[], priority=u'Low', cityId=1, landmark=u'', name=u'ND Passion, Harlur , Bengaluru', longitude=u'77.6577545', latitude=u'12.8936081', civicAgency=u'BBMP', description=u'Too many mosquitos. because of lakes which are not clean. and the garbage dump near somasundrapalya.', wardId=191, slug=u'too-many-mosquitos-because-of-lakes-whi', url=u'https://www.ichangemycity.com/complaints/too-many-mosquitos-because-of-lakes-whi', postedOn=u'17 minutes ago', wardTitle=u'Singasandra'),\n",
       " ICMC(statusTitle=u'Open', id=346587, category=u'Animal Husbandry', subCategory=u'Stray Dog Sterilisation/Animal Birth Control (ABC)', title=u'Too many start dogs barking at night\\nrun', pictures=[], priority=u'Low', cityId=1, landmark=u'', name=u'ND Passion, Harlur , Bengaluru', longitude=u'77.6577594', latitude=u'12.8936066', civicAgency=u'BBMP', description=u\"Too many start dogs barking at night\\nrunning behind cars and bikes. it's dangerous to walk alone in the late evening\", wardId=191, slug=u'too-many-start-dogs-barking-at-nightrun', url=u'https://www.ichangemycity.com/complaints/too-many-start-dogs-barking-at-nightrun', postedOn=u'19 minutes ago', wardTitle=u'Singasandra'),\n",
       " ICMC(statusTitle=u'Open', id=346586, category=u'Streetlights', subCategory=u'Maintenance/Repair Of Streetlights', title=u'There are no street lights. in the eveni', pictures=[], priority=u'Low', cityId=1, landmark=u'', name=u'ND Passion, Harlur , Bengaluru', longitude=u'77.6577435', latitude=u'12.8936122', civicAgency=u'BBMP', description=u\"There are no street lights. in the evening it's very dark and scary\", wardId=191, slug=u'there-are-no-street-lights-in-the-eveni', url=u'https://www.ichangemycity.com/complaints/there-are-no-street-lights-in-the-eveni', postedOn=u'20 minutes ago', wardTitle=u'Singasandra'),\n",
       " ICMC(statusTitle=u'Open', id=346585, category=u'Maintenance of Roads and Footpaths', subCategory=u'Fixing/Reparing Potholes', title=u'16th A, 17th A, 18th A, 9th, 10th 21st A main cross roads of Bhuvaneshwarinagar Hebbal damaged and needs to be tarred.', pictures=[{u'url': u'http://complaintcdn.ichangemycity.com/images/346585/original_485039.jpg', u'small': u'https://www.ichangemycity.com/theme/timthumb/timthumb.php?src=http://complaintcdn.ichangemycity.com/images/346585/original_485039.jpg&w=150&h=150', u'ext': u'jpg', u'large': u'https://www.ichangemycity.com/theme/timthumb/timthumb.php?src=http://complaintcdn.ichangemycity.com/images/346585/original_485039.jpg&r=700', u'id': 485039}], priority=u'Low', cityId=1, landmark=u'Saaol Heart Center Hebbal, Solar Corona Energy Solar Power Plan', name=u'25, 16Th A Cross Rd, Bhuvaneswari Nagar, Hebbal Kempapura, Bengaluru, Karnataka 560024, India', longitude=u'77.60473352330928', latitude=u'13.053546055572577', civicAgency=u'BBMP', description=u'Dear BBMP,\\n\\n16th A, 17th A, 18th A, 9th, 10th 21st A main cross roads of Bhuvaneshwari Nagar, Hebbal Kempapura has been damaged and left unattended for years and the road had been digged and due to heavy rain along the years have made these roads unmotorable. Request you to please tar these cross roads as soon as possible. All these cross roads are in front of coffe board layout park and are worst possible cross roads and unmotorable.\\n\\nRegards,\\nCitizens of Bhuvaneshwarinagar', wardId=6, slug=u'16th-a-17th-a-18th-a-9th-10th-21st-a-main-cross-roads-of-bhuvaneshwarinagar-hebbal-damaged-and-needs-to-be-tarred', url=u'https://www.ichangemycity.com/complaints/16th-a-17th-a-18th-a-9th-10th-21st-a-main-cross-roads-of-bhuvaneshwarinagar-hebbal-damaged-and-needs-to-be-tarred', postedOn=u'22 minutes ago', wardTitle=u'Thanisandra'),\n",
       " ICMC(statusTitle=u'Open', id=346577, category=u'Garbage and Unsanitary Practices', subCategory=u'Garbage', title=u'Dry garbage has not been collected from', pictures=[], priority=u'Low', cityId=1, landmark=u'', name=u'WARD no. 113, 1st cross Raviprakash nagar konena agrahara HAL Post Bengaluru,', longitude=u'77.6614596', latitude=u'12.9559003', civicAgency=u'BBMP', description=u'Dry garbage has not been collected from this area for the last one week. There are bags &amp; bags of dry garbage collected in my house. Kindly remove it at the earliest.', wardId=113, slug=u'dry-garbage-has-not-been-collected-from', url=u'https://www.ichangemycity.com/complaints/dry-garbage-has-not-been-collected-from', postedOn=u'36 minutes ago', wardTitle=u'Konena Agrahara'),\n",
       " ICMC(statusTitle=u'Open', id=346576, category=u'Maintenance of Roads and Footpaths', subCategory=u'Fixing/Reparing Potholes', title=u'10th,11th,12th,13th A, 14th A, 6th main road of Bhuvaneshwari Nagar, Hebbal damaged and need to be', pictures=[{u'url': u'http://complaintcdn.ichangemycity.com/images/346576/original_485033.jpg', u'small': u'https://www.ichangemycity.com/theme/timthumb/timthumb.php?src=http://complaintcdn.ichangemycity.com/images/346576/original_485033.jpg&w=150&h=150', u'ext': u'jpg', u'large': u'https://www.ichangemycity.com/theme/timthumb/timthumb.php?src=http://complaintcdn.ichangemycity.com/images/346576/original_485033.jpg&r=700', u'id': 485033}], priority=u'Low', cityId=1, landmark=u'Bhuvaneshwari Nagar park side road', name=u'10Th Cross Rd, Bhuvaneswari Nagar, Hebbal Kempapura, Bengaluru, Karnataka 560024, India', longitude=u'77.60280591932678', latitude=u'13.054457365620198', civicAgency=u'BBMP', description=u'Dear BBMP,\\n\\n10th, 10th,11th,12th,13th A, 14th A, 6th main cross roads of Bhuvaneshwari Nagar, Hebbal Kempapura has been damaged and left unattended for years and the road had been digged, heavy rains, negligence by concerned athourities along these years have made these roads unmotorable. Request you to please tar these cross roads as soon as possible.\\n\\nRegards,\\nCitizens of Bhuvaneshwari Nagar', wardId=6, slug=u'10th11th12th13th-a-14th-a-6th-main-road-of-bhuvaneshwari-nagar-hebbal-damaged-and-need-to-be-EFUrobyHMB', url=u'https://www.ichangemycity.com/complaints/10th11th12th13th-a-14th-a-6th-main-road-of-bhuvaneshwari-nagar-hebbal-damaged-and-need-to-be-EFUrobyHMB', postedOn=u'38 minutes ago', wardTitle=u'Thanisandra'),\n",
       " ICMC(statusTitle=u'Open', id=346574, category=u'Animal Husbandry', subCategory=u'Stray Dog Sterilisation/Animal Birth Control (ABC)', title=u'Stray Dogs and Mosquitoes', pictures=[], priority=u'Low', cityId=1, landmark=u'Opposite to Andhra bank', name=u'20Th Cross Road, Parangi Palaya, Sector 2, Hsr Layout, Bengaluru, Karnataka 560102, India', longitude=u'77.64966350000009', latitude=u'12.9107483', civicAgency=u'BBMP', description=u'They are so many stray dogs on the street and too many mosquitoes in the evening. Mosquitoes is a serious issue because of the spread of diseases. Please try to resolve the issue as it is summer we keep the windows open and it becomes too difficult to avoid mosquitoes.', wardId=174, slug=u'stray-dogs-and-mosquitoes', url=u'https://www.ichangemycity.com/complaints/stray-dogs-and-mosquitoes', postedOn=u'50 minutes ago', wardTitle=u'HSR Layout'),\n",
       " ICMC(statusTitle=u'Open', id=346569, category=u'Streetlights', subCategory=u'Maintenance/Repair Of Streetlights', title=u'Street light not working', pictures=[], priority=u'Low', cityId=1, landmark=u'', name=u'438, 5th Main Road , HBR Layout , Bengaluru', longitude=u'77.6256562024355', latitude=u'13.032801611583984', civicAgency=u'BBMP', description=u'Street light not working', wardId=24, slug=u'street-light-not-working-1iAofpbG2c', url=u'https://www.ichangemycity.com/complaints/street-light-not-working-1iAofpbG2c', postedOn=u'55 minutes ago', wardTitle=u'HBR Layout'),\n",
       " ICMC(statusTitle=u'Open', id=346565, category=u'Maintenance of Roads and Footpaths', subCategory=u'Fixing/Reparing Potholes', title=u'Underpass near kr puram railway station which leads to ORR from I...', pictures=[], priority=u'Low', cityId=1, landmark=u'', name=u'Trident Hyundai Car Showroom And Service Centre, Kamadhenu Nagar, B Narayanapura, Mahadevapura, Bengaluru, Karnataka, India', longitude=u'77.6820115', latitude=u'12.9999486', civicAgency=u'BBMP', description=u'Underpass near kr puram railway station which leads to ORR from ITI gets completely waterlogged in little rain. This is causing huge traffic even during non peak hours. Can this be gixed be properly with proper drainage for water?', wardId=55, slug=u'underpass-near-kr-puram-railway-station-which-leads-to-orr-from-i', url=u'https://www.ichangemycity.com/complaints/underpass-near-kr-puram-railway-station-which-leads-to-orr-from-i', postedOn=u'1 hour ago', wardTitle=u'Devasandra'),\n",
       " ICMC(statusTitle=u'Open', id=346563, category=u'Certificates', subCategory=u'Khata Certificate', title=u'My khatha transfer is complete  it the p', pictures=[], priority=u'Low', cityId=1, landmark=u'', name=u'Ramagondanahalli Borewell Road, Whitefield , Bengaluru', longitude=u'77.743175', latitude=u'12.9680916', civicAgency=u'BBMP', description=u'My khatha transfer is complete  it the property tax website is not updated with the correct information', wardId=84, slug=u'my-khatha-transfer-is-complete-it-the-p', url=u'https://www.ichangemycity.com/complaints/my-khatha-transfer-is-complete-it-the-p', postedOn=u'1 hour ago', wardTitle=u'Hagadur'),\n",
       " ICMC(statusTitle=u'Open', id=346561, category=u'Garbage and Unsanitary Practices', subCategory=u'Fogging (Mosquito Menace) Or Pest Control', title=u'There is no fumigation in our area for m', pictures=[], priority=u'Low', cityId=1, landmark=u'', name=u'BDA Colony, Jeevan Bima Nagar,', longitude=u'77.65826560000005', latitude=u'12.9600038', civicAgency=u'BBMP', description=u'There is no fumigation in our area for many years now. There is a severe mosquito menace after monsoon. Please spray urgently', wardId=113, slug=u'there-is-no-fumigation-in-our-area-for-m', url=u'https://www.ichangemycity.com/complaints/there-is-no-fumigation-in-our-area-for-m', postedOn=u'1 hour ago', wardTitle=u'Konena Agrahara'),\n",
       " ICMC(statusTitle=u'Open', id=346558, category=u'Maintenance of Roads and Footpaths', subCategory=u'Fixing/Reparing Potholes', title=u'Back road of Bhuvaneshwari Nagar Park, Hebbal digged a year back and not relayed ever since', pictures=[{u'url': u'http://complaintcdn.ichangemycity.com/images/346558/original_485018.jpg', u'small': u'https://www.ichangemycity.com/theme/timthumb/timthumb.php?src=http://complaintcdn.ichangemycity.com/images/346558/original_485018.jpg&w=150&h=150', u'ext': u'jpg', u'large': u'https://www.ichangemycity.com/theme/timthumb/timthumb.php?src=http://complaintcdn.ichangemycity.com/images/346558/original_485018.jpg&r=700', u'id': 485018}], priority=u'Low', cityId=1, landmark=u'Vishnu Electricals Store, Bhuvaneshwari Park', name=u'Temple Rd, Vinayaka Layout, Bhuvaneswari Nagar, Hebbal Kempapura, Bengaluru, Karnataka 560024, India', longitude=u'77.60217153823703', latitude=u'13.054039602946828', civicAgency=u'BBMP', description=u'Dear BBMP,\\n\\nThe road behind bhuvaneshwarinagar park was digged a year ago for some reason and the authorities have not relayed the roads back. Also the road is damaged very badly with lot of path holes on the way. Please tar the road as this is has been left unattended for many years now.\\n\\nRegards,\\nCitizens of Bhuvaneshwari Nagar Hebbal.', wardId=7, slug=u'back-road-of-bhuvaneshwari-nagar-park-hebbal-digged-a-year-back-and-not-relayed-ever-since', url=u'https://www.ichangemycity.com/complaints/back-road-of-bhuvaneshwari-nagar-park-hebbal-digged-a-year-back-and-not-relayed-ever-since', postedOn=u'1 hour ago', wardTitle=u'Byatarayanapura'),\n",
       " ICMC(statusTitle=u'Open', id=346554, category=u'Streetlights', subCategory=u'Maintenance/Repair Of Streetlights', title=u'The light in BDA small park on 4B Main,', pictures=[], priority=u'Low', cityId=1, landmark=u'', name=u'BDA Colony, Jeevan Bima Nagar,', longitude=u'77.65826560000005', latitude=u'12.9600038', civicAgency=u'BBMP', description=u'The light in BDA small park on 4B Main, BDA Layout, Jeevan Bhima Nagar is not working. The light connection was apparently not done properly by BESCOM during a recent change of wiring. Lack of light is leading nuisance in the park during dark.', wardId=113, slug=u'the-light-in-bda-small-park-on-4b-main', url=u'https://www.ichangemycity.com/complaints/the-light-in-bda-small-park-on-4b-main', postedOn=u'1 hour ago', wardTitle=u'Konena Agrahara'),\n",
       " ICMC(statusTitle=u'Open', id=346550, category=u'Streetlights', subCategory=u'Maintenance/Repair Of Streetlights', title=u'6th Main Road, AECS/KEB Layout, Geddalah', pictures=[], priority=u'Low', cityId=1, landmark=u'', name=u'Geddalahalii, Sanjaynagar,', longitude=u'77.57555400000001', latitude=u'13.0291525', civicAgency=u'BBMP', description=u'6th Main Road, AECS/KEB Layout, Geddalahalli (Behind Corporation Bank) - None of the street lights in the road are working. Please repair immediately', wardId=18, slug=u'6th-main-road-aecskeb-layout-geddalah', url=u'https://www.ichangemycity.com/complaints/6th-main-road-aecskeb-layout-geddalah', postedOn=u'1 hour ago', wardTitle=u'Radhakrishna Temple'),\n",
       " ICMC(statusTitle=u'Open', id=346549, category=u'Certificates', subCategory=u'Property Tax', title=u'I have paid my property tax ,application', pictures=[{u'url': u'http://complaintcdn.ichangemycity.com/images/346549/original_485011.jpeg', u'small': u'https://www.ichangemycity.com/theme/timthumb/timthumb.php?src=http://complaintcdn.ichangemycity.com/images/346549/original_485011.jpeg&w=150&h=150', u'ext': u'jpeg', u'large': u'https://www.ichangemycity.com/theme/timthumb/timthumb.php?src=http://complaintcdn.ichangemycity.com/images/346549/original_485011.jpeg&r=700', u'id': 485011}], priority=u'Low', cityId=1, landmark=u'', name=u'BTM 2nd Stage,', longitude=u'77.60740880000003', latitude=u'12.9082396', civicAgency=u'BBMP', description=u'I have paid my property tax ,application no 1600137131,receipt no 18191500666 on 25-Apr-18 via HDFC bank. \\ni have paid 4100/- ,8 rupees extra than actual amount 4092.\\nthis extra amount is not reflecting in your receipt .\\nBank people said to talk to BBMP office ,i need a reason soon', wardId=176, slug=u'i-have-paid-my-property-tax-application', url=u'https://www.ichangemycity.com/complaints/i-have-paid-my-property-tax-application', postedOn=u'2 hours ago', wardTitle=u'BTM Layout'),\n",
       " ICMC(statusTitle=u'Open', id=346547, category=u'Garbage and Unsanitary Practices', subCategory=u'Garbage', title=u'No regular frequency of garbage collecti', pictures=[], priority=u'Low', cityId=1, landmark=u'', name=u'32, Murgesh Pallya , Bengaluru', longitude=u'77.6558521', latitude=u'12.9527982', civicAgency=u'BBMP', description=u'No regular frequency of garbage collection', wardId=87, slug=u'no-regular-frequency-of-garbage-collecti', url=u'https://www.ichangemycity.com/complaints/no-regular-frequency-of-garbage-collecti', postedOn=u'2 hours ago', wardTitle=u'HAL Airport'),\n",
       " ICMC(statusTitle=u'Open', id=346546, category=u'Garbage and Unsanitary Practices', subCategory=u'Fogging (Mosquito Menace) Or Pest Control', title=u'Mosquito menace due to open drain, risk', pictures=[{u'url': u'http://complaintcdn.ichangemycity.com/images/346546/original_485009.jpeg', u'small': u'https://www.ichangemycity.com/theme/timthumb/timthumb.php?src=http://complaintcdn.ichangemycity.com/images/346546/original_485009.jpeg&w=150&h=150', u'ext': u'jpeg', u'large': u'https://www.ichangemycity.com/theme/timthumb/timthumb.php?src=http://complaintcdn.ichangemycity.com/images/346546/original_485009.jpeg&r=700', u'id': 485009}], priority=u'Low', cityId=1, landmark=u'', name=u'32, 2nd Main Road , Murgesh Pallya , Bengaluru', longitude=u'77.65588000416756', latitude=u'12.952792992047517', civicAgency=u'BBMP', description=u'Mosquito menace due to open drain, risk of disease in rainy season', wardId=87, slug=u'mosquito-menace-due-to-open-drain-risk', url=u'https://www.ichangemycity.com/complaints/mosquito-menace-due-to-open-drain-risk', postedOn=u'2 hours ago', wardTitle=u'HAL Airport'),\n",
       " ICMC(statusTitle=u'Open', id=346545, category=u'Maintenance of Roads and Footpaths', subCategory=u'Maintenance of Roads and Footpaths - Others', title=u'Sir/Madam, The 8th b main rd was good 3', pictures=[], priority=u'Low', cityId=1, landmark=u'', name=u'8th B Main Road, Siddanna Layout, Thyagaraja Nagar, Basavanagudi,', longitude=u'77.60834890000001', latitude=u'12.8893144', civicAgency=u'BBMP', description=u\"Sir/Madam, The 8th b main rd was good 3 years back.. 2 years back the foot path and road joint was chipped off on the plan of new road. Recently BWSSB work has created big patholes. Now, road is filled with big stones causing danger to all passers &amp; vehicles. When we'll have relief from danger sir\", wardId=188, slug=u'sirmadam-the-8th-b-main-rd-was-good-3', url=u'https://www.ichangemycity.com/complaints/sirmadam-the-8th-b-main-rd-was-good-3', postedOn=u'2 hours ago', wardTitle=u'Bilekahalli'),\n",
       " ICMC(statusTitle=u'Open', id=346544, category=u'Electricity and Power Supply', subCategory=u'Regular Supply Of Electricity', title=u'Frequent power cuts in Bhuvaneshwarinagar, Hebbal', pictures=[], priority=u'Low', cityId=1, landmark=u'3rd cross Bhuvaneshwari Nagar Hebbal', name=u'3Rd Cross Rd, Bhuvaneswari Nagar, Dasarahalli, Bengaluru, Karnataka 560092, India', longitude=u'77.6008913', latitude=u'13.0565737', civicAgency=u'BESCOM', description=u'Dear BHEL,\\n\\nFrequent power cuts are happening in Bhuvaneshwarinagar, Hebbal. This issue has been there for many years now and we are having to look for alternative source of power. Request you to please look into this issue as soon as possible.\\n\\nRegards,', wardId=6, slug=u'frequent-power-cuts-in-bhuvaneshwarinagar-hebbal', url=u'https://www.ichangemycity.com/complaints/frequent-power-cuts-in-bhuvaneshwarinagar-hebbal', postedOn=u'2 hours ago', wardTitle=u'Thanisandra'),\n",
       " ICMC(statusTitle=u'Open', id=346542, category=u'Streetlights', subCategory=u'Maintenance/Repair Of Streetlights', title=u'Hi, I am staying at \"BSR Paradise\" apart', pictures=[], priority=u'Low', cityId=1, landmark=u'', name=u'Kadubeesanahalli,', longitude=u'77.69520310000007', latitude=u'12.9394137', civicAgency=u'BBMP', description=u'Hi, I am staying at \"BSR Paradise\" apartment. It is located back side of Cessna Business Park and adjacent to Prestige SunnySide. Out street lights are not working since last 2 days. Many labours staying back side of apartment and threat for kids n women during night time. Request to repair. Thanks', wardId=150, slug=u'hi-i-am-staying-at-bsr-paradise-apart', url=u'https://www.ichangemycity.com/complaints/hi-i-am-staying-at-bsr-paradise-apart', postedOn=u'2 hours ago', wardTitle=u'Bellanduru'),\n",
       " ICMC(statusTitle=u'Open', id=346541, category=u'Garbage and Unsanitary Practices', subCategory=u'Garbage', title=u'Sir/Madam, Request to get the coconut le', pictures=[{u'url': u'http://complaintcdn.ichangemycity.com/images/346541/original_485007.jpeg', u'small': u'https://www.ichangemycity.com/theme/timthumb/timthumb.php?src=http://complaintcdn.ichangemycity.com/images/346541/original_485007.jpeg&w=150&h=150', u'ext': u'jpeg', u'large': u'https://www.ichangemycity.com/theme/timthumb/timthumb.php?src=http://complaintcdn.ichangemycity.com/images/346541/original_485007.jpeg&r=700', u'id': 485007}], priority=u'Low', cityId=1, landmark=u'', name=u'8th B Main Road, Siddanna Layout, Thyagaraja Nagar, Basavanagudi,', longitude=u'77.60834890000001', latitude=u'12.8893144', civicAgency=u'BBMP', description=u'Sir/Madam, Request to get the coconut leaves cleared from foot path outside house 2655 in 8th B Main. We got good support from BBMP on first time and got removed them immediately. Later on, we were to pay some money for every removal. Request you to direct them and do the needful.  regards, Ramarao', wardId=188, slug=u'sirmadam-request-to-get-the-coconut-le', url=u'https://www.ichangemycity.com/complaints/sirmadam-request-to-get-the-coconut-le', postedOn=u'2 hours ago', wardTitle=u'Bilekahalli'),\n",
       " ICMC(statusTitle=u'Open', id=346540, category=u'Certificates', subCategory=u'Property Tax', title=u'Dear sir, we bought this flat before 5 y', pictures=[], priority=u'Low', cityId=1, landmark=u'', name=u'No211, White Rise, Vivek Marvels, Yelahanka, Banagalore', longitude=u'77.5862501', latitude=u'13.0653294', civicAgency=u'BBMP', description=u'Dear sir, we bought this flat before 5 years and we are paying the taxes regularly, there was absolutely no delay whatsoever it may be. But the problem is even after repeated request and official complaint to BBMP Yelahanka also the name in the tax paid is not changed. am paying my own house tax in some bodies name. Kindly do the needful sir.', wardId=7, slug=u'dear-sir-we-bought-this-flat-before-5-y', url=u'https://www.ichangemycity.com/complaints/dear-sir-we-bought-this-flat-before-5-y', postedOn=u'2 hours ago', wardTitle=u'Byatarayanapura'),\n",
       " ICMC(statusTitle=u'On-the-Job', id=346539, category=u'Maintenance of Roads and Footpaths', subCategory=u'Fixing/Reparing Potholes', title=u'Tarring below High tension wire Bhuvaneshwarinagar Hebbal from 3rd cross onwards', pictures=[{u'url': u'http://complaintcdn.ichangemycity.com/images/346539/original_485005.jpg', u'small': u'https://www.ichangemycity.com/theme/timthumb/timthumb.php?src=http://complaintcdn.ichangemycity.com/images/346539/original_485005.jpg&w=150&h=150', u'ext': u'jpg', u'large': u'https://www.ichangemycity.com/theme/timthumb/timthumb.php?src=http://complaintcdn.ichangemycity.com/images/346539/original_485005.jpg&r=700', u'id': 485005}, {u'url': u'http://complaintcdn.ichangemycity.com/images/346539/original_485006.jpg', u'small': u'https://www.ichangemycity.com/theme/timthumb/timthumb.php?src=http://complaintcdn.ichangemycity.com/images/346539/original_485006.jpg&w=150&h=150', u'ext': u'jpg', u'large': u'https://www.ichangemycity.com/theme/timthumb/timthumb.php?src=http://complaintcdn.ichangemycity.com/images/346539/original_485006.jpg&r=700', u'id': 485006}], priority=u'Low', cityId=1, landmark=u'Below High Tension wire Bhuvaneshwari Nagar, Hebbal', name=u'31, 5Th Cross Rd, Sahakar Nagar, H A Farm Post, Bhuvaneswari Nagar, Dasarahalli, Bengaluru, Karnataka 560092, India', longitude=u'77.60146572114161', latitude=u'13.056511627658926', civicAgency=u'BBMP', description=u'Dear BBMP,\\n\\nDespite repeated complaints from residents, tarring the road below High Tension wire from 3th cross onwards is not being worked on. This is the 4th complaint being lodged. Request you to please take action as soon as possible. We are having live with dusty road for years now. This road has been tarred only till 2nd cross and from 3rd cross it has been left unattended not sure why. Request you to tar the half completed road as soon as possible.\\n\\nRegards,\\nCitizens of Bhuvaneshwarinagar, Hebbal', wardId=6, slug=u'tarring-below-high-tension-wire-bhuvaneshwarinagar-hebbal-from-3rd-cross-onwards', url=u'https://www.ichangemycity.com/complaints/tarring-below-high-tension-wire-bhuvaneshwarinagar-hebbal-from-3rd-cross-onwards', postedOn=u'2 hours ago', wardTitle=u'Thanisandra'),\n",
       " ICMC(statusTitle=u'On-the-Job', id=346537, category=u'Maintenance of Roads and Footpaths', subCategory=u'Maintenance of Roads and Footpaths - Others', title=u'No proper road full muddy and pot holes very risky to ride on this road', pictures=[], priority=u'Low', cityId=1, landmark=u'Neeladri road that joins from his a road', name=u'Neeladri Rd, Chikkathoguru Village, Bengaluru, Karnataka 560100, India', longitude=u'77.64397197881101', latitude=u'12.854950875151474', civicAgency=u'BBMP', description=u'Riding bike on this road is to risky and very dirty around the road garbage around road dusty this is been same since year', wardId=192, slug=u'no-proper-road-full-muddy-and-pot-holes-very-risky-to-ride-on-this-road', url=u'https://www.ichangemycity.com/complaints/no-proper-road-full-muddy-and-pot-holes-very-risky-to-ride-on-this-road', postedOn=u'2 hours ago', wardTitle=u'Begur')]"
      ]
     },
     "execution_count": 29,
     "metadata": {},
     "output_type": "execute_result"
    }
   ],
   "source": [
    "icmc"
   ]
  },
  {
   "cell_type": "code",
   "execution_count": 4,
   "metadata": {},
   "outputs": [],
   "source": [
    "d = json.loads(requests.get(url.format(0)).text)"
   ]
  },
  {
   "cell_type": "code",
   "execution_count": 8,
   "metadata": {},
   "outputs": [
    {
     "data": {
      "text/plain": [
       "15"
      ]
     },
     "execution_count": 8,
     "metadata": {},
     "output_type": "execute_result"
    }
   ],
   "source": [
    "len(d[\"data\"])"
   ]
  },
  {
   "cell_type": "code",
   "execution_count": 12,
   "metadata": {},
   "outputs": [
    {
     "data": {
      "text/plain": [
       "{u'assignedEngineer': None,\n",
       " u'category': u'Streetlights',\n",
       " u'categoryId': 470,\n",
       " u'channel': {u'id': 60052,\n",
       "  u'title': u'Third party vendors - BBMP',\n",
       "  u'type': u'3rd party'},\n",
       " u'civicAgency': u'BBMP',\n",
       " u'civicAgencyId': 10,\n",
       " u'comments': {u'data': [],\n",
       "  u'paginator': {u'currentPage': 1,\n",
       "   u'hasMore': False,\n",
       "   u'lastPage': 1,\n",
       "   u'nextPageUrl': u'',\n",
       "   u'perPage': 5,\n",
       "   u'prevPageUrl': u'',\n",
       "   u'total': 0,\n",
       "   u'totalPages': 0}},\n",
       " u'counts': {u'comments': 0, u'shares': 0, u'voteUps': 0},\n",
       " u'description': u'The light in BDA small park on 4B Main, BDA Layout, Jeevan Bhima Nagar is not working. The light connection was apparently not done properly by BESCOM during a recent change of wiring. Lack of light is leading nuisance in the park during dark.',\n",
       " u'genericId': u'W01130C346554',\n",
       " u'id': 346554,\n",
       " u'location': {u'cityId': 1,\n",
       "  u'landmark': u'',\n",
       "  u'latitude': u'12.9600038',\n",
       "  u'longitude': u'77.65826560000005',\n",
       "  u'name': u'BDA Colony, Jeevan Bima Nagar,'},\n",
       " u'pictures': [],\n",
       " u'postedOn': u'1 hour ago',\n",
       " u'priority': u'Low',\n",
       " u'slug': u'the-light-in-bda-small-park-on-4b-main',\n",
       " u'statusId': 1,\n",
       " u'statusTitle': u'Open',\n",
       " u'subCategory': u'Maintenance/Repair Of Streetlights',\n",
       " u'subCategoryId': 62,\n",
       " u'title': u'The light in BDA small park on 4B Main,',\n",
       " u'url': u'https://www.ichangemycity.com/complaints/the-light-in-bda-small-park-on-4b-main',\n",
       " u'user': {u'counts': {u'affectUsers': 0,\n",
       "   u'complaintsShared': 0,\n",
       "   u'followers': 0,\n",
       "   u'following': 0,\n",
       "   u'postedComplaints': 0,\n",
       "   u'unReadNotifications': 0,\n",
       "   u'voteups': 0},\n",
       "  u'id': 25868712,\n",
       "  u'profile': {u'birthday': u'',\n",
       "   u'email': u'',\n",
       "   u'fullName': u'Vinay',\n",
       "   u'gender': u'M',\n",
       "   u'mobileNumber': u'9886021807',\n",
       "   u'picture': u'https://api.ichangemycity.com/images/users/default_profile_pics/default.jpg',\n",
       "   u'slug': u'vinay-1316597',\n",
       "   u'url': u'https://www.ichangemycity.com/users/vinay-1316597'}},\n",
       " u'voteUpStatus': 0,\n",
       " u'wardId': 113,\n",
       " u'wardTitle': u'Konena Agrahara'}"
      ]
     },
     "execution_count": 12,
     "metadata": {},
     "output_type": "execute_result"
    }
   ],
   "source": [
    "d[\"data\"][14]"
   ]
  },
  {
   "cell_type": "code",
   "execution_count": null,
   "metadata": {},
   "outputs": [],
   "source": []
  }
 ],
 "metadata": {
  "kernelspec": {
   "display_name": "Python 2",
   "language": "python",
   "name": "python2"
  },
  "language_info": {
   "codemirror_mode": {
    "name": "ipython",
    "version": 2
   },
   "file_extension": ".py",
   "mimetype": "text/x-python",
   "name": "python",
   "nbconvert_exporter": "python",
   "pygments_lexer": "ipython2",
   "version": "2.7.12"
  }
 },
 "nbformat": 4,
 "nbformat_minor": 2
}
