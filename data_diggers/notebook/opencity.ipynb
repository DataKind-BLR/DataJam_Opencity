{
 "cells": [
  {
   "cell_type": "markdown",
   "metadata": {},
   "source": [
    "### Notebook to download all the local area development datasets for Bengaluru\n",
    "\n",
    "NOTE: Downloads the data for all the constituencies, except the last constituency (Yelahanka)"
   ]
  },
  {
   "cell_type": "code",
   "execution_count": 1,
   "metadata": {},
   "outputs": [],
   "source": [
    "# imports\n",
    "\n",
    "import pandas as pd\n",
    "import requests\n",
    "from bs4 import BeautifulSoup"
   ]
  },
  {
   "cell_type": "code",
   "execution_count": 2,
   "metadata": {},
   "outputs": [],
   "source": [
    "# url of the webpage\n",
    "\n",
    "BASE_URL = \"http://opencity.in/tag/lad-funds/page/{}\""
   ]
  },
  {
   "cell_type": "code",
   "execution_count": 3,
   "metadata": {},
   "outputs": [],
   "source": [
    "# method to extract the csv files from individual pages \n",
    "\n",
    "def extract_csvs(page_count=2):\n",
    "    csv_files = []\n",
    "    for page in range(page_count):\n",
    "        articles = BeautifulSoup(requests.get(BASE_URL.format(page + 1)).text).find_all('article', {'class': 'mh-posts-list-item'})\n",
    "        for csv in articles:\n",
    "            try:\n",
    "                csv_page = csv.find('a')[\"href\"]\n",
    "                csv_page_data  = requests.get(csv_page).text\n",
    "                url_section = str(BeautifulSoup(csv_page_data).find('script', {'type': 'application/ld+json'}))\n",
    "                csv_url = 'http:/' + ''.join(url_section.split(\":\")[-7].split('\"')[0].split(\"\\\\\")[2:-1])\n",
    "                print(csv_url)\n",
    "            except Exception as e:\n",
    "                print(\"Skipping: {}\".format(url))\n",
    "                continue\n",
    "            if len(csv_url) > 10:\n",
    "                csv_files.append(csv_url)\n",
    "    return csv_files"
   ]
  },
  {
   "cell_type": "code",
   "execution_count": 4,
   "metadata": {},
   "outputs": [
    {
     "name": "stderr",
     "output_type": "stream",
     "text": [
      "/usr/local/lib/python2.7/dist-packages/bs4/__init__.py:181: UserWarning: No parser was explicitly specified, so I'm using the best available HTML parser for this system (\"lxml\"). This usually isn't a problem, but if you run this code on another system, or in a different virtual environment, it may use a different parser and behave differently.\n",
      "\n",
      "The code that caused this warning is on line 174 of the file /usr/lib/python2.7/runpy.py. To get rid of this warning, change code that looks like this:\n",
      "\n",
      " BeautifulSoup(YOUR_MARKUP})\n",
      "\n",
      "to this:\n",
      "\n",
      " BeautifulSoup(YOUR_MARKUP, \"lxml\")\n",
      "\n",
      "  markup_type=markup_type))\n"
     ]
    },
    {
     "name": "stdout",
     "output_type": "stream",
     "text": [
      "http://data.opencity.in/Data/Karnataka-MLA-LAD-Funds-Nominated-Anglo-Indian-Vinisha-Nero-2014-2018.csv\n",
      "http://data.opencity.in/Data/Karnataka-MLA-LAD-Funds-AC-177-ANEKAL-2013-2018.csv\n",
      "http://data.opencity.in/Data/Karnataka-MLA-LAD-Funds-AC-176-BANGALORE-SOUTH-2013-2018.csv\n",
      "http://data.opencity.in/Data/Karnataka-MLA-LAD-Funds-AC-175-BOMMANAHALLI-2013-2018.csv\n",
      "http://data.opencity.in/Data/Karnataka-MLA-LAD-Funds-AC-174-MAHADEVAPURA-2013-2018.csv\n",
      "http://data.opencity.in/Data/Karnataka-MLA-LAD-Funds-AC-173-JAYANAGAR-2013-2018.csv\n",
      "http://data.opencity.in/Data/Karnataka-MLA-LAD-Funds-AC-172-BTM-LAYOUT-2013-2018.csv\n",
      "http://data.opencity.in/Data/Karnataka-MLA-LAD-Funds-AC-171-PADMANABHA-NAGAR-2013-2018.csv\n",
      "http://data.opencity.in/Data/Karnataka-MLA-LAD-Funds-AC-170-BASAVANAGUDI-2013-2018.csv\n",
      "http://data.opencity.in/Data/Karnataka-MLA-LAD-Funds-AC-169-CHICKPET-2013-2018.csv\n",
      "http://data.opencity.in/Data/Karnataka-MLA-LAD-Funds-AC-168-CHAMRAJPET-2013-2018.csv\n",
      "http://data.opencity.in/Data/Karnataka-MLA-LAD-Funds-AC-167-VIJAYANAGAR-2013-2018.csv\n",
      "http://data.opencity.in/Data/Karnataka-MLA-LAD-Funds-AC-166-GOVINDRAJ-NAGAR-2013-2018.csv\n",
      "http://data.opencity.in/Data/Karnataka-MLA-LAD-Funds-AC-165-RAJAJI-NAGAR-2013-2018.csv\n",
      "http://data.opencity.in/Data/Karnataka-MLA-LAD-Funds-AC-164-GANDHI-NAGAR-2013-2018.csv\n",
      "http://data.opencity.in/Data/Karnataka-MLA-LAD-Funds-AC-163-SHANTI--NAGAR-2013-2018.csv\n",
      "http://data.opencity.in/Data/Karnataka-MLA-LAD-Funds-AC-162-SHIVAJI-NAGAR-2013-2018.csv\n",
      "http://data.opencity.in/Data/Karnataka-MLA-LAD-Funds-AC-161-CV-RAMAN-NAGAR-2013-2018.csv\n",
      "http://data.opencity.in/Data/Karnataka-MLA-LAD-Funds-AC-160-SARVAGNA-NAGAR-2013-2018.csv\n",
      "http://data.opencity.in/Data/Karnataka-MLA-LAD-Funds-AC-159-PULAKESHI-NAGAR-2013-2018.csv\n",
      "http://data.opencity.in/Data/Karnataka-MLA-LAD-Funds-AC-158-HEBBAL-2015-2018.csv\n",
      "http://data.opencity.in/Data/Karnataka-MLA-LAD-Funds-AC-157-MALLESHWARAM-2013-2018.csv\n",
      "http://data.opencity.in/Data/Karnataka-MLA-LAD-Funds-AC-156-MAHALAKSHMI-LAYOUT-2013-2018.csv\n",
      "http://data.opencity.in/Data/Karnataka-MLA-LAD-Funds-AC-155-DASARAHALLI-2013-2018.csv\n",
      "http://data.opencity.in/Data/Karnataka-MLA-LAD-Funds-AC-154-RAJARAJESHWARI-NAGAR-2013-2018.csv\n",
      "http://data.opencity.in/Data/Karnataka-MLA-LAD-Funds-AC-153-YESHWANTHAPURA-2013-2018.csv\n",
      "http://data.opencity.in/Data/Karnataka-MLA-LAD-Funds-AC-152-BYATARAYANAPURA-2013-2018.csv\n",
      "http://data.opencity.in/Data/Karnataka-MLA-LAD-Funds-AC-151-KR-PURAM-2013-2018.csv\n",
      "http:/\n"
     ]
    }
   ],
   "source": [
    "csv_files = extract_csvs()"
   ]
  },
  {
   "cell_type": "code",
   "execution_count": 5,
   "metadata": {},
   "outputs": [],
   "source": [
    "# downloading all the csv files\n",
    "# make sure the folder 'csvs' exists\n",
    "\n",
    "for cf in csv_files:\n",
    "    df = pd.read_csv(cf)\n",
    "    df.to_csv('../lad_csv_files/{}'.format(cf.split('/')[-1]), index=False)"
   ]
  },
  {
   "cell_type": "code",
   "execution_count": null,
   "metadata": {},
   "outputs": [],
   "source": []
  }
 ],
 "metadata": {
  "kernelspec": {
   "display_name": "Python 2",
   "language": "python",
   "name": "python2"
  },
  "language_info": {
   "codemirror_mode": {
    "name": "ipython",
    "version": 2
   },
   "file_extension": ".py",
   "mimetype": "text/x-python",
   "name": "python",
   "nbconvert_exporter": "python",
   "pygments_lexer": "ipython2",
   "version": "2.7.12"
  }
 },
 "nbformat": 4,
 "nbformat_minor": 2
}
