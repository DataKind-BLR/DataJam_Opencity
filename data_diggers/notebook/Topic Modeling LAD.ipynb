{
 "cells": [
  {
   "cell_type": "code",
   "execution_count": 93,
   "metadata": {},
   "outputs": [],
   "source": [
    "import pandas as pd\n",
    "import os\n",
    "import nltk\n",
    "from nltk.corpus import stopwords\n",
    "from nltk.corpus import wordnet as wn\n",
    "from nltk.stem.wordnet import WordNetLemmatizer\n",
    "import string\n",
    "from time import time"
   ]
  },
  {
   "cell_type": "code",
   "execution_count": 94,
   "metadata": {},
   "outputs": [],
   "source": [
    "stopwords = set(stopwords.words('english'))\n",
    "punctuation = set(string.punctuation)\n",
    "lemmatize = WordNetLemmatizer()"
   ]
  },
  {
   "cell_type": "code",
   "execution_count": 95,
   "metadata": {},
   "outputs": [],
   "source": [
    "# bangalore_ward_list = pd.read_csv('BBMP Ward Information with Map View – OpenCity.csv')\n",
    "# #bangalore_ward_list.info()\n",
    "# ward_list = list(bangalore_ward_list['Ward Name'].str.lower())\n",
    "# stopwords.update(ward_list)"
   ]
  },
  {
   "cell_type": "code",
   "execution_count": 96,
   "metadata": {},
   "outputs": [],
   "source": [
    "'''\n",
    "Function to do basic text preprocessing\n",
    "Step 1: Remove stopwords\n",
    "Step 2: Remove punctuation\n",
    "Step 3: Lemmatize the words\n",
    "\n",
    "Input: String\n",
    "'''\n",
    "\n",
    "def preprocessing_text(text_input):\n",
    "    try:\n",
    "        stopword_removal = \" \".join([word for word in text_input.lower().split() if word not in stopwords])\n",
    "        remove_punctuation = \"\".join(word for word in stopword_removal if word not in punctuation)\n",
    "        preprocessed_text = \" \".join(lemmatize.lemmatize(word) for word in remove_punctuation.split())\n",
    "        return preprocessed_text\n",
    "    except Exception as e:\n",
    "        print 'Error at {}'.format(text_input)\n"
   ]
  },
  {
   "cell_type": "code",
   "execution_count": 97,
   "metadata": {},
   "outputs": [],
   "source": [
    "df_basavanagudi = pd.read_csv('../lad_csv_files/Karnataka-MLA-LAD-Funds-AC-170-BASAVANAGUDI-2013-2018.csv')"
   ]
  },
  {
   "cell_type": "code",
   "execution_count": 98,
   "metadata": {},
   "outputs": [],
   "source": [
    "df_basavanagudi['Work'] = df_basavanagudi['Work Name Rough Translation (English)']\n",
    "df_basavanagudi.drop(['Work Name Rough Translation (English)', 'Sl No.'], axis = 1, inplace=True)"
   ]
  },
  {
   "cell_type": "code",
   "execution_count": 99,
   "metadata": {},
   "outputs": [
    {
     "name": "stdout",
     "output_type": "stream",
     "text": [
      "<class 'pandas.core.frame.DataFrame'>\n",
      "RangeIndex: 84 entries, 0 to 83\n",
      "Data columns (total 3 columns):\n",
      "Financial Year          84 non-null object\n",
      "Value (In Rs. Lakhs)    83 non-null float64\n",
      "Work                    84 non-null object\n",
      "dtypes: float64(1), object(2)\n",
      "memory usage: 2.0+ KB\n"
     ]
    }
   ],
   "source": [
    "df_basavanagudi.info()"
   ]
  },
  {
   "cell_type": "code",
   "execution_count": 100,
   "metadata": {},
   "outputs": [],
   "source": [
    "output_text = df_basavanagudi['Work'].apply(preprocessing_text)"
   ]
  },
  {
   "cell_type": "code",
   "execution_count": 101,
   "metadata": {},
   "outputs": [],
   "source": [
    "output_list = [i.split() for i in output_text]\n"
   ]
  },
  {
   "cell_type": "code",
   "execution_count": 102,
   "metadata": {},
   "outputs": [
    {
     "data": {
      "text/plain": [
       "84"
      ]
     },
     "execution_count": 102,
     "metadata": {},
     "output_type": "execute_result"
    }
   ],
   "source": [
    "len(output_text)"
   ]
  },
  {
   "cell_type": "code",
   "execution_count": 103,
   "metadata": {},
   "outputs": [
    {
     "data": {
      "text/plain": [
       "['construction', 'school', 'building', 'built', 'gavipuram', 'guttaahalli']"
      ]
     },
     "execution_count": 103,
     "metadata": {},
     "output_type": "execute_result"
    }
   ],
   "source": [
    "output_list[0]"
   ]
  },
  {
   "cell_type": "markdown",
   "metadata": {},
   "source": [
    "## Convert the word representation to a matrix representation"
   ]
  },
  {
   "cell_type": "code",
   "execution_count": 104,
   "metadata": {},
   "outputs": [],
   "source": [
    "import gensim"
   ]
  },
  {
   "cell_type": "code",
   "execution_count": 105,
   "metadata": {},
   "outputs": [],
   "source": [
    "from gensim import corpora"
   ]
  },
  {
   "cell_type": "code",
   "execution_count": 106,
   "metadata": {},
   "outputs": [],
   "source": [
    "dictionary = corpora.Dictionary(output_list)"
   ]
  },
  {
   "cell_type": "code",
   "execution_count": 107,
   "metadata": {},
   "outputs": [
    {
     "name": "stdout",
     "output_type": "stream",
     "text": [
      "Dictionary(421 unique tokens: [u'limited', u'founder', u'existing', u'cooperative', u'railing']...)\n"
     ]
    }
   ],
   "source": [
    "print dictionary"
   ]
  },
  {
   "cell_type": "code",
   "execution_count": 108,
   "metadata": {},
   "outputs": [
    {
     "name": "stdout",
     "output_type": "stream",
     "text": [
      "84\n",
      "[(17, 1), (29, 1), (36, 1), (51, 1), (53, 1), (73, 1), (219, 2), (301, 1), (303, 1)]\n"
     ]
    }
   ],
   "source": [
    "document_term_matrix = [dictionary.doc2bow(word) for word in output_list]\n",
    "corpora.MmCorpus.serialize('corpus.mm', document_term_matrix)\n",
    "print len(document_term_matrix)\n",
    "print document_term_matrix[50]"
   ]
  },
  {
   "cell_type": "code",
   "execution_count": 109,
   "metadata": {},
   "outputs": [
    {
     "name": "stdout",
     "output_type": "stream",
     "text": [
      "used: 3.28s\n"
     ]
    }
   ],
   "source": [
    "start = time()\n",
    "Lda = gensim.models.ldamodel.LdaModel\n",
    "ldamodel = Lda(document_term_matrix, num_topics=5, id2word = dictionary, passes=100)\n",
    "print 'used: {:.2f}s'.format(time()-start)\n"
   ]
  },
  {
   "cell_type": "code",
   "execution_count": 113,
   "metadata": {},
   "outputs": [],
   "source": [
    "ldamodel.save('topic.model')\n"
   ]
  },
  {
   "cell_type": "code",
   "execution_count": 114,
   "metadata": {},
   "outputs": [
    {
     "name": "stdout",
     "output_type": "stream",
     "text": [
      "[(0, u'0.040*\"water\" + 0.037*\"ward\" + 0.021*\"subdivision\" + 0.016*\"hanumanthanagar\"'), (1, u'0.049*\"building\" + 0.037*\"school\" + 0.031*\"ward\" + 0.029*\"work\"'), (2, u'0.037*\"ward\" + 0.029*\"assembly\" + 0.026*\"constituency\" + 0.026*\"temple\"'), (3, u'0.060*\"assembly\" + 0.056*\"constituency\" + 0.052*\"ward\" + 0.045*\"basavanagudi\"'), (4, u'0.022*\"r\" + 0.022*\"ward\" + 0.021*\"building\" + 0.018*\"sri\"')]\n"
     ]
    }
   ],
   "source": [
    "print(ldamodel.print_topics(num_topics=5, num_words=4))\n"
   ]
  },
  {
   "cell_type": "code",
   "execution_count": 119,
   "metadata": {},
   "outputs": [],
   "source": [
    "import pyLDAvis.gensim\n",
    "pyLDAvis.enable_notebook()"
   ]
  },
  {
   "cell_type": "code",
   "execution_count": 116,
   "metadata": {},
   "outputs": [],
   "source": [
    "d = dictionary\n",
    "c = gensim.corpora.MmCorpus('corpus.mm')\n",
    "lda = gensim.models.LdaModel.load('topic.model')"
   ]
  },
  {
   "cell_type": "code",
   "execution_count": 122,
   "metadata": {},
   "outputs": [
    {
     "name": "stderr",
     "output_type": "stream",
     "text": [
      "/usr/local/lib/python2.7/dist-packages/pyLDAvis/_prepare.py:387: DeprecationWarning: \n",
      ".ix is deprecated. Please use\n",
      ".loc for label based indexing or\n",
      ".iloc for positional indexing\n",
      "\n",
      "See the documentation here:\n",
      "http://pandas.pydata.org/pandas-docs/stable/indexing.html#ix-indexer-is-deprecated\n",
      "  topic_term_dists = topic_term_dists.ix[topic_order]\n"
     ]
    }
   ],
   "source": [
    "data = pyLDAvis.gensim.prepare(lda, c, d)\n",
    "pyLDAvis.save_html(data, 'lda.html')\n"
   ]
  },
  {
   "cell_type": "code",
   "execution_count": null,
   "metadata": {},
   "outputs": [],
   "source": []
  }
 ],
 "metadata": {
  "kernelspec": {
   "display_name": "Python 2",
   "language": "python",
   "name": "python2"
  },
  "language_info": {
   "codemirror_mode": {
    "name": "ipython",
    "version": 2
   },
   "file_extension": ".py",
   "mimetype": "text/x-python",
   "name": "python",
   "nbconvert_exporter": "python",
   "pygments_lexer": "ipython2",
   "version": "2.7.12"
  }
 },
 "nbformat": 4,
 "nbformat_minor": 2
}
