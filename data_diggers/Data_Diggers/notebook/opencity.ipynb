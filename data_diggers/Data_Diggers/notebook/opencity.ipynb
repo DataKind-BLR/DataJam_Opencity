{
 "cells": [
  {
   "cell_type": "markdown",
   "metadata": {},
   "source": [
    "### Notebook to download all the local area development datasets for Bengaluru\n",
    "\n",
    "NOTE: Downloads the data for all the constituencies, except the last constituency (Yelahanka)"
   ]
  },
  {
   "cell_type": "code",
   "execution_count": null,
   "metadata": {},
   "outputs": [],
   "source": [
    "# imports\n",
    "\n",
    "import pandas as pd\n",
    "import requests\n",
    "from bs4 import BeautifulSoup"
   ]
  },
  {
   "cell_type": "code",
   "execution_count": null,
   "metadata": {},
   "outputs": [],
   "source": [
    "# url of the webpage\n",
    "\n",
    "BASE_URL = \"http://opencity.in/tag/lad-funds/page/{}\""
   ]
  },
  {
   "cell_type": "code",
   "execution_count": null,
   "metadata": {},
   "outputs": [],
   "source": [
    "# method to extract the csv files from individual pages \n",
    "\n",
    "def extract_csvs(page_count=2):\n",
    "    csv_files = []\n",
    "    for page in range(page_count):\n",
    "        articles = BeautifulSoup(requests.get(BASE_URL.format(page + 1)).text).find_all('article', {'class': 'mh-posts-list-item'})\n",
    "        for csv in articles:\n",
    "            try:\n",
    "                csv_page = csv.find('a')[\"href\"]\n",
    "                csv_page_data  = requests.get(csv_page).text\n",
    "                url_section = str(BeautifulSoup(csv_page_data).find('script', {'type': 'application/ld+json'}))\n",
    "                csv_url = 'http:/' + ''.join(url_section.split(\":\")[-7].split('\"')[0].split(\"\\\\\")[2:-1])\n",
    "                print(csv_url)\n",
    "            except Exception as e:\n",
    "                print(\"Skipping: {}\".format(url))\n",
    "                continue\n",
    "            if len(csv_url) > 10:\n",
    "                csv_files.append(csv_url)\n",
    "    return csv_files"
   ]
  },
  {
   "cell_type": "code",
   "execution_count": null,
   "metadata": {},
   "outputs": [],
   "source": [
    "csv_files = extract_csvs()"
   ]
  },
  {
   "cell_type": "code",
   "execution_count": null,
   "metadata": {},
   "outputs": [],
   "source": [
    "# downloading all the csv files\n",
    "# make sure the folder 'csvs' exists\n",
    "\n",
    "for cf in csv_files:\n",
    "    df = pd.read_csv(cf)\n",
    "    df.to_csv('./csvs/{}'.format(cf.split('/')[-1]), index=False)"
   ]
  }
 ],
 "metadata": {
  "kernelspec": {
   "display_name": "Python 2",
   "language": "python",
   "name": "python2"
  },
  "language_info": {
   "codemirror_mode": {
    "name": "ipython",
    "version": 2
   },
   "file_extension": ".py",
   "mimetype": "text/x-python",
   "name": "python",
   "nbconvert_exporter": "python",
   "pygments_lexer": "ipython2",
   "version": "2.7.12"
  }
 },
 "nbformat": 4,
 "nbformat_minor": 2
}
